{
 "cells": [
  {
   "attachments": {},
   "cell_type": "markdown",
   "metadata": {},
   "source": [
    "1. Buatlah program untuk menghitung pangkat 2 dari angka 1 hingga 50!"
   ]
  },
  {
   "cell_type": "code",
   "execution_count": 3,
   "metadata": {},
   "outputs": [
    {
     "name": "stdout",
     "output_type": "stream",
     "text": [
      "kuadrat1= 1\n",
      "kuadrat2= 4\n",
      "kuadrat3= 9\n",
      "kuadrat4= 16\n",
      "kuadrat5= 25\n",
      "kuadrat6= 36\n",
      "kuadrat7= 49\n",
      "kuadrat8= 64\n",
      "kuadrat9= 81\n",
      "kuadrat10= 100\n",
      "kuadrat11= 121\n",
      "kuadrat12= 144\n",
      "kuadrat13= 169\n",
      "kuadrat14= 196\n",
      "kuadrat15= 225\n",
      "kuadrat16= 256\n",
      "kuadrat17= 289\n",
      "kuadrat18= 324\n",
      "kuadrat19= 361\n",
      "kuadrat20= 400\n",
      "kuadrat21= 441\n",
      "kuadrat22= 484\n",
      "kuadrat23= 529\n",
      "kuadrat24= 576\n",
      "kuadrat25= 625\n",
      "kuadrat26= 676\n",
      "kuadrat27= 729\n",
      "kuadrat28= 784\n",
      "kuadrat29= 841\n",
      "kuadrat30= 900\n",
      "kuadrat31= 961\n",
      "kuadrat32= 1024\n",
      "kuadrat33= 1089\n",
      "kuadrat34= 1156\n",
      "kuadrat35= 1225\n",
      "kuadrat36= 1296\n",
      "kuadrat37= 1369\n",
      "kuadrat38= 1444\n",
      "kuadrat39= 1521\n",
      "kuadrat40= 1600\n",
      "kuadrat41= 1681\n",
      "kuadrat42= 1764\n",
      "kuadrat43= 1849\n",
      "kuadrat44= 1936\n",
      "kuadrat45= 2025\n",
      "kuadrat46= 2116\n",
      "kuadrat47= 2209\n",
      "kuadrat48= 2304\n",
      "kuadrat49= 2401\n",
      "kuadrat50= 2500\n"
     ]
    }
   ],
   "source": [
    "# Kerjakan nomor 1 di sini\n",
    "for i in range(1,51):\n",
    "    print(f\"kuadrat{i}= {i**2}\")"
   ]
  },
  {
   "attachments": {},
   "cell_type": "markdown",
   "metadata": {},
   "source": [
    "2. Buatlah sebuah list yang berisi daftar nama mahasiswa angkatan kalian minimal sejumlah 10 nama. Kemudian buat program pencarian menggunakan pengulangan, di mana apabila nama yang user inputkan sudah sesuai dengan isi list maka program akan berhenti dan menampilkan output \"Pencarian anda sudah berakhir\""
   ]
  },
  {
   "attachments": {},
   "cell_type": "markdown",
   "metadata": {},
   "source": [
    "catatan: perhatikan user dapat menginputkan menggunakan baik huruf kapital maupun tidak"
   ]
  },
  {
   "cell_type": "code",
   "execution_count": 1,
   "metadata": {},
   "outputs": [
    {
     "name": "stdout",
     "output_type": "stream",
     "text": [
      "julie\n",
      "meli\n",
      "fiya\n",
      "dika\n",
      "nadya\n",
      "mira\n",
      "novita\n",
      "zalfa\n",
      "muti\n",
      "zarla\n",
      "nala\n",
      "raisa \n",
      "pencarian anda sudah berakhir\n"
     ]
    }
   ],
   "source": [
    "#kerjakan nomor 2 disini\n",
    "nama = [\"julie\",\"meli\",\"fiya\",\"dika\",\"nadya\",\"mira\",\"novita\",\"zalfa\",\"muti\",\"zarla\",\"nala\",\"raisa\"]\n",
    "asd = input(\"masukkan nama\")\n",
    "asd = asd.lower()\n",
    "for x in nama:\n",
    "    if asd == x:\n",
    "        print(f'{x} \\npencarian anda sudah berakhir')\n",
    "        break\n",
    "    print(x)\n",
    "    "
   ]
  },
  {
   "attachments": {},
   "cell_type": "markdown",
   "metadata": {},
   "source": [
    "3. Disajikan list sebagai berikut "
   ]
  },
  {
   "cell_type": "code",
   "execution_count": null,
   "metadata": {},
   "outputs": [],
   "source": [
    "bulan = ['januari', 'februari', 'maret', 'april','mei','juni','juli','agustus','september','oktober','november','desember']\n",
    "kota = ['jakarta' , 'kuala lumpur', 'bangkok', 'seoul', 'canada','london','dubai','barcelona']"
   ]
  },
  {
   "attachments": {},
   "cell_type": "markdown",
   "metadata": {},
   "source": [
    "Robert adalah seorang penyanyi terkenal. Dia merencanakan konser world tour di tahun 2024 mendatang di berbagai negara. Dengan catatan pada bulan April dan Mei, Robert kembali ke indonesia untuk istirahat sejenak kemudian melanjutkan lagi konser. Berdasarkan kasus tersebut buatlah program pengulangannya!"
   ]
  },
  {
   "cell_type": "code",
   "execution_count": 2,
   "metadata": {},
   "outputs": [
    {
     "name": "stdout",
     "output_type": "stream",
     "text": [
      "Robert akan konser di bulan januari di kota jakarta\n",
      "Robert akan konser di bulan februari di kota kuala lumpur\n",
      "Robert akan konser di bulan maret di kota bangkok\n",
      "dibulan april robert mau istirahat\n",
      "dibulan mei robert mau istirahat\n",
      "Robert akan konser di bulan juni di kota seoul\n",
      "Robert akan konser di bulan juli di kota canada\n",
      "Robert akan konser di bulan agustus di kota london\n",
      "Robert akan konser di bulan september di kota dubai\n",
      "Robert akan konser di bulan oktober di kota barcelona\n",
      "Robert akan konser di bulan november di kota london\n",
      "Robert akan konser di bulan desember di kota dubai\n"
     ]
    }
   ],
   "source": [
    "#kerjakan nomor 3 di sini\n",
    "import random\n",
    "bulan = ['januari', 'februari', 'maret', 'april','mei','juni','juli','agustus','september','oktober','november','desember']\n",
    "kota = ['jakarta' , 'kuala lumpur', 'bangkok', 'seoul', 'canada','london','dubai','barcelona']\n",
    "a = 0\n",
    "for i in bulan:\n",
    "    if i in [\"april\", \"mei\"]:\n",
    "        print(f'dibulan {i} robert mau istirahat')\n",
    "        continue\n",
    "    print(f'Robert akan konser di bulan {i} di kota', kota[a])\n",
    "    a+=1\n",
    "    if a == 8:\n",
    "        a = random.randrange(0,8)"
   ]
  }
 ],
 "metadata": {
  "kernelspec": {
   "display_name": "Python 3",
   "language": "python",
   "name": "python3"
  },
  "language_info": {
   "codemirror_mode": {
    "name": "ipython",
    "version": 3
   },
   "file_extension": ".py",
   "mimetype": "text/x-python",
   "name": "python",
   "nbconvert_exporter": "python",
   "pygments_lexer": "ipython3",
   "version": "3.10.7"
  },
  "orig_nbformat": 4
 },
 "nbformat": 4,
 "nbformat_minor": 2
}
