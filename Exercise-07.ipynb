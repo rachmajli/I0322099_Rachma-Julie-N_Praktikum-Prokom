{
 "cells": [
  {
   "cell_type": "code",
   "execution_count": 1,
   "metadata": {},
   "outputs": [
    {
     "name": "stdout",
     "output_type": "stream",
     "text": [
      "[[1, 5, 3], [5, 6, 7], [8, 9, 0], [3, 4, 2], [1, 1, 2], [1, 1, 1], [3, 4, 5], [6, 7, 5], [4, 3, 2]]\n"
     ]
    }
   ],
   "source": [
    "#Buatlah sebuah fungsi untuk membuat matrix berdasarkan input dari user\n",
    "\n",
    "import numpy as np\n",
    "\n",
    "def create_matrix(baris,kolom):\n",
    "    global matrix\n",
    "    matrix = [[0 for k in range(kolom)]for r in range(baris)]\n",
    "    for r in range(baris):\n",
    "        for k in range (kolom):\n",
    "            matrix[r][k] = int(input(f\"Masukkan elemen untuk [{r+1}][{k+1}] :\"))\n",
    "    return matrix\n",
    "print(create_matrix(baris = int(input('Masukkan Jumlah Baris:\\t')),\n",
    "            kolom = int(input('Masukkan Jumlah Kolom:\\t'))))\n"
   ]
  },
  {
   "cell_type": "code",
   "execution_count": 7,
   "metadata": {},
   "outputs": [
    {
     "name": "stdout",
     "output_type": "stream",
     "text": [
      "[[1, 2, 3], [4, 3, 2]]\n"
     ]
    },
    {
     "data": {
      "text/plain": [
       "-5"
      ]
     },
     "execution_count": 7,
     "metadata": {},
     "output_type": "execute_result"
    }
   ],
   "source": [
    "#Buatlah sebuah fungsi untuk mencari determinan matrix berdasarkan input matrix dari user\n",
    "\n",
    "baris = int(input(\"Masukkan Jumlah Baris:\\t\"))\n",
    "kolom = int(input(\"Masukkan Jumlah Kolom:\\t\"))\n",
    "create_matrix(baris,kolom)\n",
    "\n",
    "def determinant(matrix):\n",
    "    p = len(matrix)\n",
    "    if p == 1:\n",
    "        return matrix[0][0]\n",
    "    else:\n",
    "        det = 0\n",
    "        for k in range(p):\n",
    "            temp = [row[:k]+row[k+1:] for row in matrix[1:]]\n",
    "            det += (-1)**k * matrix[0][k] * determinant(temp)\n",
    "    return det\n",
    "print(matrix)\n",
    "determinant(matrix)"
   ]
  },
  {
   "cell_type": "code",
   "execution_count": 9,
   "metadata": {},
   "outputs": [
    {
     "name": "stdout",
     "output_type": "stream",
     "text": [
      "matrix 1 = [[3, 4], [3, 2]]\n",
      "matrix 2 = [[1, 2, 1], [2, 3, 4]]\n",
      "[11, 18, 19]\n",
      "[7, 12, 11]\n"
     ]
    }
   ],
   "source": [
    "#Buatlah fungsi untuk mengakalikan dua buah matrix berdasarkan input user menggunakan nested loop\n",
    "\n",
    "def create_matrix1(baris1, kolom1):\n",
    "    global matrix1\n",
    "    matrix1 = [[0 for r in range(kolom1)]for w in range(baris1)]\n",
    "    for w in range(baris1):\n",
    "        for r in range(kolom1):\n",
    "            matrix1[w][r] = int(input(f\"Masukkan elemen untuk [{w+1}][{r+1}] : \"))\n",
    "    return matrix1\n",
    " \n",
    "baris1 = int(input('Masukkan Jumlah Baris M1:\\t'))\n",
    "kolom1 = int(input('Masukkan Jumlah Kolom M1:\\t'))\n",
    "create_matrix1(baris1, kolom1)\n",
    "\n",
    "def create_matrix2(baris2, kolom2):\n",
    "    global matrix2\n",
    "    matrix2 = [[0 for r in range(kolom2)]for w in range(baris2)]\n",
    "    for w in range(baris2):\n",
    "        for r in range(kolom2):\n",
    "            matrix2[w][r] = int(input(f\"Masukkan elemen untuk [{w+1}][{r+1}] : \"))\n",
    "    return matrix2\n",
    "\n",
    "baris2 = int(input('Masukkan Jumlah Baris M2:\\t'))\n",
    "kolom2 = int(input('Masukkan Jumlah Kolom M2:\\t'))\n",
    "create_matrix2(baris2, kolom2)\n",
    "\n",
    "def multiply_matrix(matrix1, matrix2):\n",
    "    m = len(matrix1)\n",
    "    n = len(matrix2[0])\n",
    "    p = len(matrix2)\n",
    "    \n",
    "    result = [[0 for r in range(n)] for w in range(m)]\n",
    "    for w in range(m):\n",
    "        for r in range(n):\n",
    "            for k in range(p):\n",
    "                result[w][r] += matrix1[w][k] * matrix2[k][r]\n",
    "    \n",
    "    for u in result:\n",
    "        print(u)\n",
    "\n",
    "print('matrix 1 =',matrix1)\n",
    "print('matrix 2 =',matrix2)\n",
    "multiply_matrix(matrix1, matrix2)"
   ]
  }
 ],
 "metadata": {
  "kernelspec": {
   "display_name": "Python 3",
   "language": "python",
   "name": "python3"
  },
  "language_info": {
   "codemirror_mode": {
    "name": "ipython",
    "version": 3
   },
   "file_extension": ".py",
   "mimetype": "text/x-python",
   "name": "python",
   "nbconvert_exporter": "python",
   "pygments_lexer": "ipython3",
   "version": "3.10.7"
  },
  "orig_nbformat": 4
 },
 "nbformat": 4,
 "nbformat_minor": 2
}
